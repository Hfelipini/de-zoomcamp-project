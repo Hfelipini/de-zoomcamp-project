{
 "cells": [
  {
   "cell_type": "code",
   "execution_count": 4,
   "metadata": {},
   "outputs": [],
   "source": [
    "import pandas as pd\n",
    "from google.oauth2 import service_account\n",
    "\n",
    "credentials = service_account.Credentials.from_service_account_file(filename=\"C:/Users/hfeli/OneDrive/Documents/Cursos/DataEngineering/Projects/de-zoomcamp-project-important-files/de-zoomcamp-project-hfelipini-a9d06ac71bcd.json\",\n",
    "                                                                    scopes=[\"https://www.googleapis.com/auth/cloud-platform\"])\n",
    "\"\"\"Create Partitioned table for optimization\"\"\"\n",
    "query = '''\n",
    "    SELECT\n",
    "        DISTINCT(ID), *\n",
    "    FROM `de-zoomcamp-project-hfelipini.de_project_dataset.python_test_partitioned`\n",
    "    WHERE DateTime = \"2023-04-25 15:12:00+00:00\"\n",
    "    ORDER BY Ticker ASC, DateTime DESC\n",
    "'''"
   ]
  },
  {
   "cell_type": "code",
   "execution_count": 5,
   "metadata": {},
   "outputs": [],
   "source": [
    "query_result = pd.read_gbq(credentials=credentials, query=query)"
   ]
  },
  {
   "cell_type": "code",
   "execution_count": 7,
   "metadata": {},
   "outputs": [
    {
     "name": "stdout",
     "output_type": "stream",
     "text": [
      "89\n",
      "                          ID                       ID_1  \\\n",
      "0  2023.04.25 15:12:00-ABEV3  2023.04.25 15:12:00-ABEV3   \n",
      "1  2023.04.25 15:12:00-ALPA4  2023.04.25 15:12:00-ALPA4   \n",
      "2  2023.04.25 15:12:00-ALSO3  2023.04.25 15:12:00-ALSO3   \n",
      "3  2023.04.25 15:12:00-ARZZ3  2023.04.25 15:12:00-ARZZ3   \n",
      "4  2023.04.25 15:12:00-ASAI3  2023.04.25 15:12:00-ASAI3   \n",
      "5  2023.04.25 15:12:00-AZUL4  2023.04.25 15:12:00-AZUL4   \n",
      "6  2023.04.25 15:12:00-B3SA3  2023.04.25 15:12:00-B3SA3   \n",
      "7  2023.04.25 15:12:00-BBAS3  2023.04.25 15:12:00-BBAS3   \n",
      "8  2023.04.25 15:12:00-BBDC3  2023.04.25 15:12:00-BBDC3   \n",
      "9  2023.04.25 15:12:00-BBDC4  2023.04.25 15:12:00-BBDC4   \n",
      "\n",
      "                   DateTime Ticker   Open   High    Low  Close  RealVolume  \\\n",
      "0 2023-04-25 15:12:00+00:00  ABEV3  14.28  14.29  14.28  14.28        4300   \n",
      "1 2023-04-25 15:12:00+00:00  ALPA4   6.96   6.98   6.96   6.98       19700   \n",
      "2 2023-04-25 15:12:00+00:00  ALSO3  17.80  17.81  17.78  17.79        8500   \n",
      "3 2023-04-25 15:12:00+00:00  ARZZ3  62.86  62.90  62.86  62.87        1200   \n",
      "4 2023-04-25 15:12:00+00:00  ASAI3  12.26  12.27  12.26  12.27        6900   \n",
      "5 2023-04-25 15:12:00+00:00  AZUL4  10.27  10.28  10.27  10.27       15100   \n",
      "6 2023-04-25 15:12:00+00:00  B3SA3  11.71  11.72  11.71  11.72       17300   \n",
      "7 2023-04-25 15:12:00+00:00  BBAS3  42.85  42.85  42.84  42.84        4500   \n",
      "8 2023-04-25 15:12:00+00:00  BBDC3  12.28  12.28  12.27  12.27        1800   \n",
      "9 2023-04-25 15:12:00+00:00  BBDC4  13.64  13.65  13.63  13.63       16100   \n",
      "\n",
      "   Spread  TickVolume  \n",
      "0       1          18  \n",
      "1       1          34  \n",
      "2       1          28  \n",
      "3       1          11  \n",
      "4       1          20  \n",
      "5       1          12  \n",
      "6       1          77  \n",
      "7       1          36  \n",
      "8       1           6  \n",
      "9       1          21  \n"
     ]
    }
   ],
   "source": [
    "\n",
    "print(len(query_result))\n",
    "print(query_result.head(10))"
   ]
  },
  {
   "cell_type": "code",
   "execution_count": 34,
   "metadata": {},
   "outputs": [
    {
     "name": "stdout",
     "output_type": "stream",
     "text": [
      "172\n",
      "                          ID                  DateTime Ticker  Close  Close_1  \\\n",
      "0  2023.04.25 16:27:00-ABEV3 2023-04-25 16:27:00+00:00  ABEV3  14.26    14.26   \n",
      "1  2023.04.25 16:26:00-ABEV3 2023-04-25 16:26:00+00:00  ABEV3  14.26    14.26   \n",
      "2  2023.04.25 16:27:00-ALPA4 2023-04-25 16:27:00+00:00  ALPA4   6.99     6.99   \n",
      "3  2023.04.25 16:26:00-ALPA4 2023-04-25 16:26:00+00:00  ALPA4   6.99     6.99   \n",
      "4  2023.04.25 16:27:00-ALSO3 2023-04-25 16:27:00+00:00  ALSO3  17.92    17.94   \n",
      "5  2023.04.25 16:26:00-ALSO3 2023-04-25 16:26:00+00:00  ALSO3  17.94    17.93   \n",
      "6  2023.04.25 16:27:00-ARZZ3 2023-04-25 16:27:00+00:00  ARZZ3  62.24    62.28   \n",
      "7  2023.04.25 16:26:00-ARZZ3 2023-04-25 16:26:00+00:00  ARZZ3  62.28    62.41   \n",
      "8  2023.04.25 16:27:00-ASAI3 2023-04-25 16:27:00+00:00  ASAI3  12.33    12.34   \n",
      "9  2023.04.25 16:26:00-ASAI3 2023-04-25 16:26:00+00:00  ASAI3  12.34    12.35   \n",
      "\n",
      "       Rate  \n",
      "0  0.000000  \n",
      "1  0.000000  \n",
      "2  0.000000  \n",
      "3  0.000000  \n",
      "4 -0.001115  \n",
      "5  0.000558  \n",
      "6 -0.000642  \n",
      "7 -0.002083  \n",
      "8 -0.000810  \n",
      "9 -0.000810  \n"
     ]
    }
   ],
   "source": [
    "query = '''\n",
    "    \n",
    "    SELECT\n",
    "        DISTINCT(A.ID), A.DateTime, A.Ticker, A.Close, B.Close, CAST(A.Close AS DECIMAL) / B.Close - 1 as Rate \n",
    "    FROM `de-zoomcamp-project-hfelipini.de_project_dataset.python_test_partitioned` A, `de-zoomcamp-project-hfelipini.de_project_dataset.python_test_partitioned` B\n",
    "    --WHERE DateTime = \"2023-04-25 15:12:00+00:00\"\n",
    "    WHERE A.Ticker = B.Ticker\n",
    "    AND A.Dayframe = B.Dayframe\n",
    "    AND A.Timeframe - 1 = B.Timeframe\n",
    "    ORDER BY Ticker ASC, DateTime DESC\n",
    "'''\n",
    "query_result = pd.read_gbq(credentials=credentials, query=query)\n",
    "print(len(query_result))\n",
    "print(query_result.head(10))"
   ]
  },
  {
   "cell_type": "code",
   "execution_count": 25,
   "metadata": {},
   "outputs": [
    {
     "name": "stdout",
     "output_type": "stream",
     "text": [
      "267\n",
      "                          ID                  DateTime Ticker  Close\n",
      "0  2023.04.25 16:27:00-ABEV3 2023-04-25 16:27:00+00:00  ABEV3  14.26\n",
      "1  2023.04.25 16:26:00-ABEV3 2023-04-25 16:26:00+00:00  ABEV3  14.26\n",
      "2  2023.04.25 16:25:00-ABEV3 2023-04-25 16:25:00+00:00  ABEV3  14.26\n",
      "3  2023.04.25 16:27:00-ALPA4 2023-04-25 16:27:00+00:00  ALPA4   6.99\n",
      "4  2023.04.25 16:26:00-ALPA4 2023-04-25 16:26:00+00:00  ALPA4   6.99\n",
      "5  2023.04.25 16:25:00-ALPA4 2023-04-25 16:25:00+00:00  ALPA4   6.99\n",
      "6  2023.04.25 16:27:00-ALSO3 2023-04-25 16:27:00+00:00  ALSO3  17.92\n",
      "7  2023.04.25 16:26:00-ALSO3 2023-04-25 16:26:00+00:00  ALSO3  17.94\n",
      "8  2023.04.25 16:25:00-ALSO3 2023-04-25 16:25:00+00:00  ALSO3  17.93\n",
      "9  2023.04.25 16:27:00-ARZZ3 2023-04-25 16:27:00+00:00  ARZZ3  62.24\n"
     ]
    }
   ],
   "source": [
    "query = '''\n",
    "    SELECT\n",
    "        DISTINCT(A.ID), A.DateTime, A.Ticker, A.Close\n",
    "    FROM `de-zoomcamp-project-hfelipini.de_project_dataset.python_test_partitioned` A\n",
    "    --WHERE DateTime = \"2023-04-25 15:12:00+00:00\"\n",
    "    ORDER BY Ticker ASC, DateTime DESC\n",
    "'''\n",
    "query_result = pd.read_gbq(credentials=credentials, query=query)\n",
    "print(len(query_result))\n",
    "print(query_result.head(10))"
   ]
  },
  {
   "cell_type": "code",
   "execution_count": 32,
   "metadata": {},
   "outputs": [],
   "source": [
    "query_result.to_csv(\"Extract2.csv\")"
   ]
  },
  {
   "cell_type": "code",
   "execution_count": 28,
   "metadata": {},
   "outputs": [
    {
     "name": "stdout",
     "output_type": "stream",
     "text": [
      "2939\n",
      "                          ID                  DateTime Ticker  Close  \\\n",
      "0  2023.04.28 10:31:00-AZUL4 2023-04-28 10:31:00+00:00  AZUL4  10.53   \n",
      "1  2023.04.28 10:27:00-ALPA4 2023-04-28 10:27:00+00:00  ALPA4   7.42   \n",
      "2  2023.04.28 10:31:00-GOLL4 2023-04-28 10:31:00+00:00  GOLL4   6.33   \n",
      "3  2023.04.28 10:24:00-ALPA4 2023-04-28 10:24:00+00:00  ALPA4   7.38   \n",
      "4  2023.04.28 10:18:00-CASH3 2023-04-28 10:18:00+00:00  CASH3   0.83   \n",
      "5  2023.04.28 10:23:00-CASH3 2023-04-28 10:23:00+00:00  CASH3   0.83   \n",
      "6  2023.04.28 10:21:00-CASH3 2023-04-28 10:21:00+00:00  CASH3   0.83   \n",
      "7  2023.04.28 10:28:00-CASH3 2023-04-28 10:28:00+00:00  CASH3   0.83   \n",
      "8  2023.04.28 10:34:00-CASH3 2023-04-28 10:34:00+00:00  CASH3   0.84   \n",
      "9  2023.04.28 10:41:00-CASH3 2023-04-28 10:41:00+00:00  CASH3   0.84   \n",
      "\n",
      "   ClosePrevious      Rate  Timeframe  Dayframe  \n",
      "0          10.35  0.017391        631    738547  \n",
      "1           7.32  0.013661        627    738547  \n",
      "2           6.25  0.012800        631    738547  \n",
      "3           7.29  0.012346        624    738547  \n",
      "4           0.82  0.012195        618    738547  \n",
      "5           0.82  0.012195        623    738547  \n",
      "6           0.82  0.012195        621    738547  \n",
      "7           0.82  0.012195        628    738547  \n",
      "8           0.83  0.012048        634    738547  \n",
      "9           0.83  0.012048        641    738547  \n"
     ]
    }
   ],
   "source": [
    "import pandas as pd\n",
    "from google.oauth2 import service_account\n",
    "\n",
    "credentials = service_account.Credentials.from_service_account_file(filename=\"C:/Users/hfeli/OneDrive/Documents/Cursos/DataEngineering/Projects/de-zoomcamp-project-important-files/de-zoomcamp-project-hfelipini-a9d06ac71bcd.json\",\n",
    "                                                                    scopes=[\"https://www.googleapis.com/auth/cloud-platform\"])\n",
    "query = '''\n",
    "\n",
    "    CREATE OR REPLACE TABLE `de-zoomcamp-project-hfelipini.de_project_dataset.minute_rate`\n",
    "    AS (\n",
    "      SELECT\n",
    "        DISTINCT(A.ID), A.DateTime, A.Ticker, A.Close, B.Close as ClosePrevious, CAST(A.Close AS DECIMAL) / B.Close - 1 as Rate, A.Timeframe, A.Dayframe\n",
    "      FROM `de-zoomcamp-project-hfelipini.de_project_dataset.python_test_partitioned` A, `de-zoomcamp-project-hfelipini.de_project_dataset.python_test_partitioned` B\n",
    "      --WHERE DateTime = \"2023-04-25 15:12:00+00:00\"\n",
    "      WHERE A.Ticker = B.Ticker\n",
    "      --AND A.Dayframe = B.Dayframe\n",
    "      AND A.Timeframe - 1 = B.Timeframe\n",
    "      AND A.Dayframe = (SELECT MAX(A.Dayframe) from `de-zoomcamp-project-hfelipini.de_project_dataset.python_test_partitioned`)\n",
    "      AND A.Timeframe = (SELECT MAX(A.Timeframe) from `de-zoomcamp-project-hfelipini.de_project_dataset.python_test_partitioned` WHERE Dayframe = (SELECT MAX(Dayframe) from `de-zoomcamp-project-hfelipini.de_project_dataset.python_test_partitioned`))\n",
    "      --ORDER BY Ticker ASC, DateTime DESC\n",
    "      ORDER BY Rate Desc\n",
    "    );\n",
    "'''\n",
    "query_result = pd.read_gbq(credentials=credentials, query=query)\n",
    "print(len(query_result))\n",
    "print(query_result.head(10))"
   ]
  },
  {
   "cell_type": "code",
   "execution_count": 18,
   "metadata": {},
   "outputs": [
    {
     "name": "stdout",
     "output_type": "stream",
     "text": [
      "0\n",
      "Empty DataFrame\n",
      "Columns: [ID, DateTime, Ticker, Close, Timeframe, Dayframe]\n",
      "Index: []\n"
     ]
    }
   ],
   "source": [
    "query = '''\n",
    "    (\n",
    "        SELECT ID, DateTime, Ticker, Close, Timeframe, Dayframe\n",
    "        FROM `de-zoomcamp-project-hfelipini.de_project_dataset.python_test_partitioned`\n",
    "        WHERE Timeframe >= (SELECT MAX(Timeframe) from `de-zoomcamp-project-hfelipini.de_project_dataset.python_test_partitioned`) - 1\n",
    "        AND Dayframe = (SELECT MAX(Dayframe) from `de-zoomcamp-project-hfelipini.de_project_dataset.python_test_partitioned`)\n",
    "        ORDER BY Ticker ASC\n",
    "    );\n",
    "'''\n",
    "query_result = pd.read_gbq(credentials=credentials, query=query)\n",
    "print(len(query_result))\n",
    "print(query_result.head(10))"
   ]
  },
  {
   "cell_type": "code",
   "execution_count": 26,
   "metadata": {},
   "outputs": [
    {
     "name": "stdout",
     "output_type": "stream",
     "text": [
      "88\n",
      "                          ID Ticker  Close  Timeframe  Dayframe\n",
      "0  2023.04.28 10:50:00-ABEV3  ABEV3  14.04        650    738547\n",
      "1  2023.04.28 10:50:00-ALPA4  ALPA4   7.50        650    738547\n",
      "2  2023.04.28 10:50:00-ALSO3  ALSO3  18.33        650    738547\n",
      "3  2023.04.28 10:50:00-ARZZ3  ARZZ3  64.20        650    738547\n",
      "4  2023.04.28 10:50:00-ASAI3  ASAI3  12.13        650    738547\n",
      "5  2023.04.28 10:50:00-AZUL4  AZUL4  10.41        650    738547\n",
      "6  2023.04.28 10:50:00-B3SA3  B3SA3  11.43        650    738547\n",
      "7  2023.04.28 10:50:00-BBAS3  BBAS3  42.50        650    738547\n",
      "8  2023.04.28 10:50:00-BBDC3  BBDC3  12.18        650    738547\n",
      "9  2023.04.28 10:50:00-BBDC4  BBDC4  13.63        650    738547\n"
     ]
    }
   ],
   "source": [
    "query = '''\n",
    "    (\n",
    "        SELECT ID, Ticker, Close, Timeframe, Dayframe\n",
    "        FROM `de-zoomcamp-project-hfelipini.de_project_dataset.python_test_partitioned`\n",
    "        WHERE Dayframe = (SELECT MAX(Dayframe) from `de-zoomcamp-project-hfelipini.de_project_dataset.python_test_partitioned`)\n",
    "        AND Timeframe = (SELECT MAX(Timeframe) from `de-zoomcamp-project-hfelipini.de_project_dataset.python_test_partitioned` WHERE Dayframe = (SELECT MAX(Dayframe) from `de-zoomcamp-project-hfelipini.de_project_dataset.python_test_partitioned`))\n",
    "        ORDER BY Ticker ASC\n",
    "    );\n",
    "'''\n",
    "query_result = pd.read_gbq(credentials=credentials, query=query)\n",
    "print(len(query_result))\n",
    "print(query_result.head(10))"
   ]
  },
  {
   "cell_type": "code",
   "execution_count": null,
   "metadata": {},
   "outputs": [],
   "source": []
  }
 ],
 "metadata": {
  "kernelspec": {
   "display_name": "Python 3",
   "language": "python",
   "name": "python3"
  },
  "language_info": {
   "codemirror_mode": {
    "name": "ipython",
    "version": 3
   },
   "file_extension": ".py",
   "mimetype": "text/x-python",
   "name": "python",
   "nbconvert_exporter": "python",
   "pygments_lexer": "ipython3",
   "version": "3.10.2"
  },
  "orig_nbformat": 4
 },
 "nbformat": 4,
 "nbformat_minor": 2
}
