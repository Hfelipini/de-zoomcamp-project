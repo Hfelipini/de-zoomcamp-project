{
 "cells": [
  {
   "attachments": {},
   "cell_type": "markdown",
   "metadata": {},
   "source": [
    "No GitBash, rodar:\n",
    "export CLOUDSDK_PYTHON=\"C:\\Python310\\python.exe\"\n",
    "export GOOGLE_APPLICATION_CREDENTIALS=sacred-pursuit-376214-a903f204f370.json\n",
    "export GOOGLE_APPLICATION_CREDENTIALS=de-zoomcamp-project-hfelipini-a9d06ac71bcd.json\n",
    "gcloud auth activate-service-account --key-file $GOOGLE_APPLICATION_CREDENTIALS"
   ]
  }
 ],
 "metadata": {
  "kernelspec": {
   "display_name": "Python 3",
   "language": "python",
   "name": "python3"
  },
  "language_info": {
   "codemirror_mode": {
    "name": "ipython",
    "version": 3
   },
   "file_extension": ".py",
   "mimetype": "text/x-python",
   "name": "python",
   "nbconvert_exporter": "python",
   "pygments_lexer": "ipython3",
   "version": "3.10.2"
  },
  "orig_nbformat": 4,
  "vscode": {
   "interpreter": {
    "hash": "369f2c481f4da34e4445cda3fffd2e751bd1c4d706f27375911949ba6bb62e1c"
   }
  }
 },
 "nbformat": 4,
 "nbformat_minor": 2
}
